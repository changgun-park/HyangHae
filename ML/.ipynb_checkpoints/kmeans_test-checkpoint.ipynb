{
 "cells": [
  {
   "cell_type": "code",
   "execution_count": 6,
   "id": "a1890da3",
   "metadata": {},
   "outputs": [],
   "source": [
    "import tensorflow as tf\n",
    "from tensorflow.compat.v1.estimator.experimental import KMeans\n",
    "from tensorflow.python.framework import ops\n",
    "import numpy as np\n",
    "import pandas as pd\n",
    "import matplotlib.pyplot as plt\n",
    "import json\n",
    "from openpyxl import load_workbook"
   ]
  },
  {
   "cell_type": "code",
   "execution_count": null,
   "id": "0baaac6f",
   "metadata": {},
   "outputs": [],
   "source": [
    "# Cluster 개수 설정\n",
    "k = 3\n",
    "\n",
    "# 데이터 파일명\n",
    "filename = 'kmeans_test.xlsx' \n",
    "\n",
    "# 엑셀의 수식이 아닌 셀 값만 받아오도록 data_only = True 로 설정\n",
    "load_xl = load_workbook(filename, data_only=True)\n",
    "\n",
    "# train과 test 엑셀 시트 지정\n",
    "train_sheet = load_xl['kmeans_train']\n",
    "test_sheet = load_xl['kmeans_test']\n",
    "\n",
    "# 몇번째 행,열을 가져올지 지정\n",
    "x_train = train_sheet['B2':'G7']\n",
    "y_train = "
   ]
  }
 ],
 "metadata": {
  "kernelspec": {
   "display_name": "Python 3 (ipykernel)",
   "language": "python",
   "name": "python3"
  },
  "language_info": {
   "codemirror_mode": {
    "name": "ipython",
    "version": 3
   },
   "file_extension": ".py",
   "mimetype": "text/x-python",
   "name": "python",
   "nbconvert_exporter": "python",
   "pygments_lexer": "ipython3",
   "version": "3.9.7"
  }
 },
 "nbformat": 4,
 "nbformat_minor": 5
}
